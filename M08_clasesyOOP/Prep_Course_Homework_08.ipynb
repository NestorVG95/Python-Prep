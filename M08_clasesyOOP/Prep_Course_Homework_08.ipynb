{
 "cells": [
  {
   "attachments": {},
   "cell_type": "markdown",
   "metadata": {},
   "source": [
    "## Clases y Programación Orientada a Objetos"
   ]
  },
  {
   "attachments": {},
   "cell_type": "markdown",
   "metadata": {},
   "source": [
    "1) Crear la clase vehículo que contenga los atributos:<br>\n",
    "Color<br>\n",
    "Si es moto, auto, camioneta ó camión<br>\n",
    "Cilindrada del motor"
   ]
  },
  {
   "cell_type": "code",
   "execution_count": 1,
   "metadata": {},
   "outputs": [],
   "source": [
    "class Vehículo:\n",
    "    def __init__(self,color,tipo,cilindraje):\n",
    "        self.color = color\n",
    "        self.tipo = tipo\n",
    "        self.cilindraje = cilindraje"
   ]
  },
  {
   "attachments": {},
   "cell_type": "markdown",
   "metadata": {},
   "source": [
    "2) A la clase Vehiculo creada en el punto 1, agregar los siguientes métodos:<br>\n",
    "Acelerar<br>\n",
    "Frenar<br>\n",
    "Doblar<br>"
   ]
  },
  {
   "cell_type": "code",
   "execution_count": 2,
   "metadata": {},
   "outputs": [],
   "source": [
    "class VehículoMotorizado(Vehículo):\n",
    "    def __init__(self, color, tipo, cilindraje):\n",
    "        super().__init__(color, tipo, cilindraje)\n",
    "        self.velo = 0\n",
    "        self.doblar = 0\n",
    "    def Acelerar(self, vel):\n",
    "        self.velo += vel\n",
    "    def Frenar(self, vel):\n",
    "        self.velo -= vel\n",
    "    def Doblar(self, grados):\n",
    "        self.doblar += grados"
   ]
  },
  {
   "attachments": {},
   "cell_type": "markdown",
   "metadata": {},
   "source": [
    "3) Instanciar 3 objetos de la clase vehículo y ejecutar sus métodos, probar luego el resultado"
   ]
  },
  {
   "cell_type": "code",
   "execution_count": 3,
   "metadata": {},
   "outputs": [
    {
     "name": "stdout",
     "output_type": "stream",
     "text": [
      "Blanco camion 12\n",
      "Rojo auto 1\n",
      "Azul camioneta 5\n"
     ]
    }
   ],
   "source": [
    "mi_auto = VehículoMotorizado(\"Rojo\", \"auto\", 1)\n",
    "mi_camioneta = VehículoMotorizado(\"Azul\", \"camioneta\", 5)\n",
    "mi_camion = VehículoMotorizado(\"Blanco\", \"camion\", 12)\n",
    "\n",
    "mi_camion.Acelerar(20)\n",
    "mi_camion.Frenar(30)\n",
    "mi_camion.Doblar(30)\n",
    "\n",
    "mi_auto.Acelerar(70)\n",
    "mi_auto.Frenar(40)\n",
    "mi_auto.Doblar(35)\n",
    "\n",
    "mi_camioneta.Acelerar(50)\n",
    "mi_camioneta.Frenar(60)\n",
    "mi_camioneta.Doblar(38)\n",
    "print(mi_camion.color, mi_camion.tipo, mi_camion.cilindraje)\n",
    "print(mi_auto.color, mi_auto.tipo, mi_auto.cilindraje)\n",
    "print(mi_camioneta.color, mi_camioneta.tipo, mi_camioneta.cilindraje)"
   ]
  },
  {
   "attachments": {},
   "cell_type": "markdown",
   "metadata": {},
   "source": [
    "4) Agregar a la clase Vehiculo, un método que muestre su estado, es decir, a que velocidad se encuentra y su dirección. Y otro método que muestre color, tipo y cilindrada"
   ]
  },
  {
   "cell_type": "code",
   "execution_count": 4,
   "metadata": {},
   "outputs": [
    {
     "name": "stdout",
     "output_type": "stream",
     "text": [
      "Velocidad:  30 Dirección:  35\n",
      "Color:  rojo Tipo de vehículo:  auto Cilindraje:  1\n"
     ]
    }
   ],
   "source": [
    "class Datos(VehículoMotorizado):\n",
    "    def Estado(self):\n",
    "        print(\"Velocidad: \",self.velo,\"Dirección: \", self.doblar)\n",
    "    def Identificación(self):\n",
    "        print(\"Color: \",self.color,\"Tipo de vehículo: \", self.tipo,\"Cilindraje: \", self.cilindraje)\n",
    "mi_auto = Datos(\"rojo\",\"auto\",1)\n",
    "mi_auto.Acelerar(70)\n",
    "mi_auto.Frenar(40)\n",
    "mi_auto.Doblar(35)\n",
    "mi_auto.Estado()\n",
    "mi_auto.Identificación()"
   ]
  },
  {
   "attachments": {},
   "cell_type": "markdown",
   "metadata": {},
   "source": [
    "5) Crear una clase que permita utilizar las funciones creadas en la práctica del módulo 7<br>\n",
    "Verificar Primo<br>\n",
    "Valor modal<br>\n",
    "Conversión grados<br>\n",
    "Factorial<br>"
   ]
  },
  {
   "cell_type": "code",
   "execution_count": 5,
   "metadata": {},
   "outputs": [],
   "source": [
    "class Funciones:\n",
    "    def __init__(self) -> None:\n",
    "        pass\n",
    "    def es_primo(self,numero):\n",
    "        if numero==2 or numero==3 or numero==5:\n",
    "            return(True)\n",
    "        elif numero%2==0 or numero%3==0 or numero%5==0 :\n",
    "            return(False)\n",
    "        else:\n",
    "            return(True)\n",
    "    def son_primos(self,numeros):\n",
    "        primos= []\n",
    "        for i in numeros:\n",
    "            if self.es_primo(i):\n",
    "                primos.append(i)\n",
    "        return primos\n",
    "    def mas_repetido(self,i):\n",
    "        conteo={}\n",
    "        for x in i:\n",
    "            if x in conteo:\n",
    "                conteo[x]+=1\n",
    "            else:\n",
    "                conteo[x]=1\n",
    "        valor_max=0\n",
    "        dato= 0\n",
    "        for x in conteo:\n",
    "            if conteo[x]>= valor_max:\n",
    "                valor_max=conteo[x]\n",
    "                dato = x\n",
    "        return(\"El número más repetido es \",dato,\" con:\",valor_max,\" repeticiones.\")\n",
    "    def Conversor(self,valor,origen,destino):\n",
    "        x=0\n",
    "        if origen == \"C\" and destino == \"F\":\n",
    "            x=(valor*(9/5)+32)\n",
    "        elif origen == \"C\" and destino == \"K\":\n",
    "            x=valor+273.15\n",
    "        elif origen == \"F\" and destino == \"C\":\n",
    "            x=(valor-32)/(9/5)\n",
    "        elif origen == \"K\" and destino == \"C\":\n",
    "            x=valor-273.15\n",
    "        elif origen == \"F\" and destino == \"K\":\n",
    "            x=(valor+459.67)*(5/9)\n",
    "        else:\n",
    "            x=1.8*(valor-273.15)+32\n",
    "        return(\"El resultado de la conversión es:\", x)\n",
    "    def factorial(self, numero):\n",
    "        while numero < 0:\n",
    "            numero = -numero\n",
    "        while isinstance(numero, float):\n",
    "            numero = int(numero)\n",
    "        if numero == 1:\n",
    "            return 1\n",
    "        elif numero >1:\n",
    "            return numero * self.factorial(numero - 1)\n",
    "        else:\n",
    "            return \"Valor Invalido\""
   ]
  },
  {
   "attachments": {},
   "cell_type": "markdown",
   "metadata": {},
   "source": [
    "6) Probar las funciones incorporadas en la clase del punto 5"
   ]
  },
  {
   "cell_type": "code",
   "execution_count": 6,
   "metadata": {},
   "outputs": [
    {
     "name": "stdout",
     "output_type": "stream",
     "text": [
      "[1, 2, 3, 5, 7, 101, 2, 3, 5, 7, 11, 3, 3, 2, 2, 1, 1, 2, 2, 3, 5]\n",
      "('El número más repetido es ', 2, ' con:', 6, ' repeticiones.')\n",
      "[('El resultado de la conversión es:', -273.15), ('El resultado de la conversión es:', 273.15), ('El resultado de la conversión es:', 32.0), ('El resultado de la conversión es:', 255.37222222222223), ('El resultado de la conversión es:', -17.77777777777778), ('El resultado de la conversión es:', -459.66999999999996)]\n",
      "[1, 2, 6, 24, 120, 720, 5040, 40320, 362880, 9425947759838359420851623124482936749562312794702543768327889353416977599316221476503087861591808346911623490003549599583369706302603264000000000000000000000000, 2, 6, 24, 120, 720, 5040, 40320, 362880, 3628800, 39916800, 479001600, 6, 6, 2, 2, 1, 230843697339241380472092742683027581083278564571807941132288000000000000, 1, 2, 2, 6, 24, 120]\n"
     ]
    }
   ],
   "source": [
    "Lista1= [1,2,3,4,5,6,7,8,9,101,2,3,4,5,6,7,8,9,10,11,12,3,3,2,2,1,54,1,2,2,3,4,5]\n",
    "Lista2= [0,\"K\",\"C\"],[0,\"C\",\"K\"],[0,\"C\",\"F\"],[0,\"F\",\"K\"],[0,\"F\",\"C\"],[0,\"K\",\"F\"]\n",
    "primos= Funciones().son_primos(Lista1)\n",
    "ValorModal= Funciones().mas_repetido(Lista1)\n",
    "ConversorGrados=[]\n",
    "ValorFactorial=[]\n",
    "for i in Lista2: \n",
    "    ConversorGrados.append(Funciones().Conversor(*i))\n",
    "for i in Lista1:\n",
    "    ValorFactorial.append(Funciones().factorial(i))\n",
    "print(primos)\n",
    "print(ValorModal)\n",
    "print(ConversorGrados)\n",
    "print(ValorFactorial)"
   ]
  },
  {
   "attachments": {},
   "cell_type": "markdown",
   "metadata": {},
   "source": [
    "7) Es necesario que la clase creada en el punto 5 contenga una lista, sobre la cual se apliquen las funciones incorporadas"
   ]
  },
  {
   "cell_type": "code",
   "execution_count": 7,
   "metadata": {},
   "outputs": [],
   "source": [
    "class Funciones:\n",
    "    def __init__(self,listas):\n",
    "        self.lista = listas\n",
    "    def __es_primo(self,numero):\n",
    "        if numero==2 or numero==3 or numero==5:\n",
    "            return(True)\n",
    "        elif numero%2==0 or numero%3==0 or numero%5==0 :\n",
    "            return(False)\n",
    "        else:\n",
    "            return(True)\n",
    "    def conversion_grados(self, origen, destino):\n",
    "        for i in self.lista:\n",
    "            print(i, 'grados', origen, 'son', self.__Conversor(i, origen, destino),'grados',destino)\n",
    "    def son_primos(self,numeros):\n",
    "        primos= []\n",
    "        for i in numeros:\n",
    "            if self.__es_primo(i):\n",
    "                primos.append(i)\n",
    "        return primos\n",
    "    def mas_repetido(self):\n",
    "        conteo={}\n",
    "        for x in self.lista:\n",
    "            if x in conteo:\n",
    "                conteo[x]+=1\n",
    "            else:\n",
    "                conteo[x]=1\n",
    "        valor_max=0\n",
    "        dato= 0\n",
    "        for x in conteo:\n",
    "            if conteo[x]>= valor_max:\n",
    "                valor_max=conteo[x]\n",
    "                dato = x\n",
    "        return(\"El número más repetido es \",dato,\" con:\",valor_max,\" repeticiones.\")\n",
    "    def factorial(self):\n",
    "        for i in self.lista:\n",
    "            print('El factorial de', i, 'es', self.__factorial(i))\n",
    "    def __Conversor(self,valor,origen,destino):\n",
    "        x=0\n",
    "        if origen == \"C\" and destino == \"F\":\n",
    "            x=(valor*(9/5)+32)\n",
    "        elif origen == \"C\" and destino == \"K\":\n",
    "            x=valor+273.15\n",
    "        elif origen == \"F\" and destino == \"C\":\n",
    "            x=(valor-32)/(9/5)\n",
    "        elif origen == \"K\" and destino == \"C\":\n",
    "            x=valor-273.15\n",
    "        elif origen == \"F\" and destino == \"K\":\n",
    "            x=(valor+459.67)*(5/9)\n",
    "        else:\n",
    "            x=1.8*(valor-273.15)+32\n",
    "        return(\"El resultado de la conversión es:\", x)\n",
    "    def __factorial(self, numero):\n",
    "        while numero < 0:\n",
    "            numero = -numero\n",
    "        while isinstance(numero, float):\n",
    "            numero = int(numero)\n",
    "        if numero == 1:\n",
    "            return 1\n",
    "        elif numero > 1:\n",
    "            return numero * self.__factorial(numero - 1)\n",
    "        else:\n",
    "            return \"Valor Invalido\""
   ]
  },
  {
   "cell_type": "code",
   "execution_count": 8,
   "metadata": {},
   "outputs": [
    {
     "name": "stdout",
     "output_type": "stream",
     "text": [
      "2 grados C son ('El resultado de la conversión es:', 35.6) grados F\n",
      "3 grados C son ('El resultado de la conversión es:', 37.4) grados F\n",
      "4 grados C son ('El resultado de la conversión es:', 39.2) grados F\n",
      "Números primos: [2, 3]\n",
      "('El número más repetido es ', 4, ' con:', 1, ' repeticiones.')\n",
      "El factorial de 2 es 2\n",
      "El factorial de 3 es 6\n",
      "El factorial de 4 es 24\n"
     ]
    }
   ],
   "source": [
    "lista = [2, 3, 4]\n",
    "funciones = Funciones(lista)\n",
    "funciones.conversion_grados(\"C\", \"F\")\n",
    "primos = funciones.son_primos(lista)\n",
    "print(\"Números primos:\", primos)\n",
    "print(funciones.mas_repetido())\n",
    "funciones.factorial()"
   ]
  },
  {
   "attachments": {},
   "cell_type": "markdown",
   "metadata": {},
   "source": [
    "8) Crear un archivo .py aparte y ubicar allí la clase generada en el punto anterior. Luego realizar la importación del módulo y probar alguna de sus funciones"
   ]
  },
  {
   "cell_type": "code",
   "execution_count": 9,
   "metadata": {},
   "outputs": [
    {
     "name": "stdout",
     "output_type": "stream",
     "text": [
      "2 grados C son ('El resultado de la conversión es:', 35.6) grados F\n",
      "3 grados C son ('El resultado de la conversión es:', 37.4) grados F\n",
      "4 grados C son ('El resultado de la conversión es:', 39.2) grados F\n",
      "Números primos: [2, 3]\n",
      "('El número más repetido es ', 4, ' con:', 1, ' repeticiones.')\n",
      "El factorial de 2 es 2\n",
      "El factorial de 3 es 6\n",
      "El factorial de 4 es 24\n"
     ]
    }
   ],
   "source": [
    "from funciones import *\n",
    "lista = [2, 3, 4]\n",
    "funciones = Funciones(lista)\n",
    "funciones.conversion_grados(\"C\", \"F\")\n",
    "primos = funciones.son_primos(lista)\n",
    "print(\"Números primos:\", primos)\n",
    "print(funciones.mas_repetido())\n",
    "funciones.factorial()"
   ]
  }
 ],
 "metadata": {
  "interpreter": {
   "hash": "c85384e4cb51c8b72350f3a8712cc8351fdc3955e32a27f9b60c6242ab125f01"
  },
  "kernelspec": {
   "display_name": "Python 3 (ipykernel)",
   "language": "python",
   "name": "python3"
  },
  "language_info": {
   "codemirror_mode": {
    "name": "ipython",
    "version": 3
   },
   "file_extension": ".py",
   "mimetype": "text/x-python",
   "name": "python",
   "nbconvert_exporter": "python",
   "pygments_lexer": "ipython3",
   "version": "3.11.4"
  }
 },
 "nbformat": 4,
 "nbformat_minor": 4
}
