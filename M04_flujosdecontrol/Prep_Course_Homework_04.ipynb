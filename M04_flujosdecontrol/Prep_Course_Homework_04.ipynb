{
 "cells": [
  {
   "attachments": {},
   "cell_type": "markdown",
   "metadata": {},
   "source": [
    "## Flujos de Control"
   ]
  },
  {
   "attachments": {},
   "cell_type": "markdown",
   "metadata": {},
   "source": [
    "1) Crear una variable que contenga un elemento del conjunto de números enteros y luego imprimir por pantalla si es mayor o menor a cero"
   ]
  },
  {
   "cell_type": "code",
   "execution_count": 2,
   "metadata": {},
   "outputs": [
    {
     "name": "stdout",
     "output_type": "stream",
     "text": [
      "Este número:  8 es mayor que 0\n"
     ]
    }
   ],
   "source": [
    "Var1= 8\n",
    "if Var1<0:\n",
    "    print(\"Este número: \",Var1,\" es menor que 0\")\n",
    "elif Var1>0:\n",
    "    print(\"Este número: \",Var1,\"es mayor que 0\")\n",
    "else:\n",
    "    print(\"Este número es igual que 0\")"
   ]
  },
  {
   "attachments": {},
   "cell_type": "markdown",
   "metadata": {},
   "source": [
    "2) Crear dos variables y un condicional que informe si son del mismo tipo de dato"
   ]
  },
  {
   "cell_type": "code",
   "execution_count": 4,
   "metadata": {},
   "outputs": [
    {
     "name": "stdout",
     "output_type": "stream",
     "text": [
      "Estas variables tienen el mismo tipo de dato\n"
     ]
    }
   ],
   "source": [
    "Var1= 1\n",
    "Var2= \"Gabriel\"\n",
    "if type(Var1)==type(Var2):\n",
    "    print(\"Estas variables tienen el mismo tipo de dato\")\n",
    "else:\n",
    "    print(\"Estas variables tiene un tipo de dato diferente\")"
   ]
  },
  {
   "attachments": {},
   "cell_type": "markdown",
   "metadata": {},
   "source": [
    "3) Para los valores enteros del 1 al 20, imprimir por pantalla si es par o impar"
   ]
  },
  {
   "cell_type": "code",
   "execution_count": 5,
   "metadata": {},
   "outputs": [
    {
     "name": "stdout",
     "output_type": "stream",
     "text": [
      "1  Es un número impar\n",
      "2  Es un número par\n",
      "3  Es un número impar\n",
      "4  Es un número par\n",
      "5  Es un número impar\n",
      "6  Es un número par\n",
      "7  Es un número impar\n",
      "8  Es un número par\n",
      "9  Es un número impar\n",
      "10  Es un número par\n",
      "11  Es un número impar\n",
      "12  Es un número par\n",
      "13  Es un número impar\n",
      "14  Es un número par\n",
      "15  Es un número impar\n",
      "16  Es un número par\n",
      "17  Es un número impar\n",
      "18  Es un número par\n",
      "19  Es un número impar\n",
      "20  Es un número par\n"
     ]
    }
   ],
   "source": [
    "for i in range(1,21):\n",
    "    if i%2==0:\n",
    "        print(i,\" Es un número par\")\n",
    "    else:\n",
    "        print(i,\" Es un número impar\")"
   ]
  },
  {
   "attachments": {},
   "cell_type": "markdown",
   "metadata": {},
   "source": [
    "4) En un ciclo for mostrar para los valores entre 0 y 5 el resultado de elevarlo a la potencia igual a 3"
   ]
  },
  {
   "cell_type": "code",
   "execution_count": 6,
   "metadata": {},
   "outputs": [
    {
     "name": "stdout",
     "output_type": "stream",
     "text": [
      "0  elevado a la potencia 3 es:  0\n",
      "1  elevado a la potencia 3 es:  1\n",
      "2  elevado a la potencia 3 es:  8\n",
      "3  elevado a la potencia 3 es:  27\n",
      "4  elevado a la potencia 3 es:  64\n",
      "5  elevado a la potencia 3 es:  125\n"
     ]
    }
   ],
   "source": [
    "for i in range(6):\n",
    "    print(i, \" elevado a la potencia 3 es: \",(i**3))"
   ]
  },
  {
   "attachments": {},
   "cell_type": "markdown",
   "metadata": {},
   "source": [
    "5) Crear una variable que contenga un número entero y realizar un ciclo for la misma cantidad de ciclos"
   ]
  },
  {
   "cell_type": "code",
   "execution_count": 9,
   "metadata": {},
   "outputs": [
    {
     "name": "stdout",
     "output_type": "stream",
     "text": [
      "Este texto se repetirá  8  veces\n",
      "Este texto se repetirá  8  veces\n",
      "Este texto se repetirá  8  veces\n",
      "Este texto se repetirá  8  veces\n",
      "Este texto se repetirá  8  veces\n",
      "Este texto se repetirá  8  veces\n",
      "Este texto se repetirá  8  veces\n",
      "Este texto se repetirá  8  veces\n"
     ]
    }
   ],
   "source": [
    "Var1= 8\n",
    "for i in range(Var1):\n",
    "    print(\"Este texto se repetirá \", Var1,\" veces\")"
   ]
  },
  {
   "attachments": {},
   "cell_type": "markdown",
   "metadata": {},
   "source": [
    "6) Utilizar un ciclo while para realizar el factorial de un número guardado en una variable, sólo si la variable contiene un número entero mayor a 0"
   ]
  },
  {
   "cell_type": "code",
   "execution_count": 13,
   "metadata": {},
   "outputs": [
    {
     "name": "stdout",
     "output_type": "stream",
     "text": [
      "56\n",
      "42\n",
      "30\n",
      "20\n",
      "12\n",
      "6\n",
      "2\n",
      "0\n"
     ]
    }
   ],
   "source": [
    "Var1= 8\n",
    "if Var1>0:\n",
    "    while Var1>0:\n",
    "        i=Var1*(Var1-1)\n",
    "        print(i)\n",
    "        Var1-=1"
   ]
  },
  {
   "attachments": {},
   "cell_type": "markdown",
   "metadata": {},
   "source": [
    "7) Crear un ciclo for dentro de un ciclo while"
   ]
  },
  {
   "cell_type": "code",
   "execution_count": 17,
   "metadata": {},
   "outputs": [
    {
     "name": "stdout",
     "output_type": "stream",
     "text": [
      "El número  4 Se repite por  1  vez \n",
      "El número  4 Se repite por  2  vez \n",
      "El número  4 Se repite por  3  vez \n",
      "El número  4 Se repite por  4  vez \n",
      "El número  3 Se repite por  1  vez \n",
      "El número  3 Se repite por  2  vez \n",
      "El número  3 Se repite por  3  vez \n",
      "El número  2 Se repite por  1  vez \n",
      "El número  2 Se repite por  2  vez \n",
      "El número  1 Se repite por  1  vez \n"
     ]
    }
   ],
   "source": [
    "Var1=4\n",
    "while Var1 >0:\n",
    "    for i in range(Var1):\n",
    "        print(\"El número \", Var1,\"Se repite por \", (i+1), \" vez \")\n",
    "    Var1-=1"
   ]
  },
  {
   "attachments": {},
   "cell_type": "markdown",
   "metadata": {},
   "source": [
    "8) Crear un ciclo while dentro de un ciclo for"
   ]
  },
  {
   "cell_type": "code",
   "execution_count": 4,
   "metadata": {},
   "outputs": [
    {
     "name": "stdout",
     "output_type": "stream",
     "text": [
      "La potencia en base 2 de  0  es:  0\n",
      "La potencia en base 2 de  2  es:  4\n",
      "La potencia en base 2 de  4  es:  16\n",
      "La potencia en base 2 de  6  es:  36\n",
      "La potencia en base 2 de  8  es:  64\n"
     ]
    }
   ],
   "source": [
    "Var1= 10\n",
    "for i in range(Var1):\n",
    "    while i%2==0:\n",
    "        print(\"La potencia en base 2 de \", i,\" es: \",(i**2))\n",
    "        i+=1\n",
    "        "
   ]
  },
  {
   "attachments": {},
   "cell_type": "markdown",
   "metadata": {},
   "source": [
    "9) Imprimir los números primos existentes entre 0 y 30"
   ]
  },
  {
   "cell_type": "code",
   "execution_count": 9,
   "metadata": {},
   "outputs": [
    {
     "name": "stdout",
     "output_type": "stream",
     "text": [
      "1\n",
      "2\n",
      "3\n",
      "5\n",
      "7\n",
      "11\n",
      "13\n",
      "17\n",
      "19\n",
      "23\n",
      "29\n"
     ]
    }
   ],
   "source": [
    "Var1= 30\n",
    "for i in range(Var1):\n",
    "    if i==2 or i==3 or i==5:\n",
    "        print(i)\n",
    "    else:\n",
    "        while i%2!=0 and i%3!=0 and i%5!=0:\n",
    "            print(i)\n",
    "            i+=1"
   ]
  },
  {
   "attachments": {},
   "cell_type": "markdown",
   "metadata": {},
   "source": [
    "10) ¿Se puede mejorar el proceso del punto 9? Utilizar las sentencias break y/ó continue para tal fin"
   ]
  },
  {
   "cell_type": "code",
   "execution_count": 10,
   "metadata": {},
   "outputs": [
    {
     "name": "stdout",
     "output_type": "stream",
     "text": [
      "1\n",
      "2\n",
      "3\n",
      "5\n",
      "7\n",
      "11\n",
      "13\n",
      "17\n",
      "19\n",
      "23\n",
      "29\n"
     ]
    }
   ],
   "source": [
    "Var1= 30\n",
    "for i in range(Var1):\n",
    "    if i==2 or i==3 or i==5:\n",
    "        print(i)\n",
    "    else:\n",
    "        while i%2!=0 and i%3!=0 and i%5!=0:\n",
    "            print(i)\n",
    "            break"
   ]
  },
  {
   "attachments": {},
   "cell_type": "markdown",
   "metadata": {},
   "source": [
    "11) En los puntos 9 y 10, se diseño un código que encuentra números primos y además se lo optimizó. ¿Es posible saber en qué medida se optimizó?"
   ]
  },
  {
   "cell_type": "code",
   "execution_count": 11,
   "metadata": {},
   "outputs": [
    {
     "name": "stdout",
     "output_type": "stream",
     "text": [
      "1\n",
      "2\n",
      "3\n",
      "5\n",
      "7\n",
      "11\n",
      "13\n",
      "17\n",
      "19\n",
      "23\n",
      "29\n"
     ]
    }
   ],
   "source": [
    "Var1= 30\n",
    "for i in range(Var1):\n",
    "    if i==2 or i==3 or i==5:\n",
    "        print(i)\n",
    "    else:\n",
    "        while i%2!=0 and i%3!=0 and i%5!=0:\n",
    "            print(i)\n",
    "            break # Ya no repite el while sino que lo finaliza, ahorrando tiempo y recursos"
   ]
  },
  {
   "attachments": {},
   "cell_type": "markdown",
   "metadata": {},
   "source": [
    "12) Aplicando continue, armar un ciclo while que solo imprima los valores divisibles por 12, dentro del rango de números de 100 a 300"
   ]
  },
  {
   "cell_type": "code",
   "execution_count": 13,
   "metadata": {},
   "outputs": [
    {
     "name": "stdout",
     "output_type": "stream",
     "text": [
      "108\n",
      "120\n",
      "132\n",
      "144\n",
      "156\n",
      "168\n",
      "180\n",
      "192\n",
      "204\n",
      "216\n",
      "228\n",
      "240\n",
      "252\n",
      "264\n",
      "276\n",
      "288\n",
      "300\n"
     ]
    }
   ],
   "source": [
    "Var1=100\n",
    "Var2=300\n",
    "while Var1<=Var2:\n",
    "    Var1+=1\n",
    "    if Var1%12==0:\n",
    "        print(Var1)\n",
    "    else:\n",
    "        continue"
   ]
  },
  {
   "attachments": {},
   "cell_type": "markdown",
   "metadata": {},
   "source": [
    "13) Utilizar la función **input()** que permite hacer ingresos por teclado, para encontrar números primos y dar la opción al usario de buscar el siguiente"
   ]
  },
  {
   "cell_type": "code",
   "execution_count": 1,
   "metadata": {},
   "outputs": [
    {
     "name": "stdout",
     "output_type": "stream",
     "text": [
      "48  No es un número primo\n",
      "El siguiente número primo es 49\n",
      "El siguiente número primo es 53\n",
      "El siguiente número primo es 59\n"
     ]
    }
   ],
   "source": [
    "Var1 = int(input(\"¿Qué número quieres buscar? \"))\n",
    "if Var1==2 or Var1==3 or Var1==5 or (Var1%2!=0 and Var1%3!=0 and Var1%5!=0):\n",
    "    print(Var1,\" Es un número primo\")\n",
    "else:\n",
    "   print(Var1,\" No es un número primo\")\n",
    "while True:\n",
    "    Var2 = input(\"¿Quieres encontrar el número primo siguiente? S/N \")\n",
    "    if Var2.lower() == 's':\n",
    "        Var1 += 1\n",
    "        while not (Var1==2 or Var1==3 or Var1==5 or (Var1%2!=0 and Var1%3!=0 and Var1%5!=0)):\n",
    "            Var1 += 1\n",
    "        print(\"El siguiente número primo es\", Var1)\n",
    "    else:\n",
    "        break"
   ]
  },
  {
   "attachments": {},
   "cell_type": "markdown",
   "metadata": {},
   "source": [
    "14) Crear un ciclo while que encuentre dentro del rango de 100 a 300 el primer número divisible por 3 y además múltiplo de 6"
   ]
  },
  {
   "cell_type": "code",
   "execution_count": 15,
   "metadata": {},
   "outputs": [
    {
     "name": "stdout",
     "output_type": "stream",
     "text": [
      "102\n"
     ]
    }
   ],
   "source": [
    "Var1=100\n",
    "Var2=300\n",
    "while (Var1-1)<=Var2:\n",
    "    Var1+=1\n",
    "    if Var1%3==0 and Var1%6==0:\n",
    "        print(Var1)\n",
    "        break\n",
    "    else:\n",
    "        continue"
   ]
  }
 ],
 "metadata": {
  "interpreter": {
   "hash": "c85384e4cb51c8b72350f3a8712cc8351fdc3955e32a27f9b60c6242ab125f01"
  },
  "kernelspec": {
   "display_name": "Python 3 (ipykernel)",
   "language": "python",
   "name": "python3"
  },
  "language_info": {
   "codemirror_mode": {
    "name": "ipython",
    "version": 3
   },
   "file_extension": ".py",
   "mimetype": "text/x-python",
   "name": "python",
   "nbconvert_exporter": "python",
   "pygments_lexer": "ipython3",
   "version": "3.11.4"
  }
 },
 "nbformat": 4,
 "nbformat_minor": 4
}
