{
 "cells": [
  {
   "attachments": {},
   "cell_type": "markdown",
   "metadata": {},
   "source": [
    "## Funciones"
   ]
  },
  {
   "attachments": {},
   "cell_type": "markdown",
   "metadata": {},
   "source": [
    "1) Crear una función que reciba un número como parámetro y devuelva True si es primo y False si no lo es"
   ]
  },
  {
   "cell_type": "code",
   "execution_count": 29,
   "metadata": {},
   "outputs": [
    {
     "data": {
      "text/plain": [
       "False"
      ]
     },
     "execution_count": 29,
     "metadata": {},
     "output_type": "execute_result"
    }
   ],
   "source": [
    "def es_primo(numero):\n",
    "    if numero==2 or numero==3 or numero==5:\n",
    "        return(True)\n",
    "    elif numero%2==0 or numero%3==0 or numero%5==0 :\n",
    "        return(False)\n",
    "    else:\n",
    "        return(True)\n",
    "es_primo(22)"
   ]
  },
  {
   "attachments": {},
   "cell_type": "markdown",
   "metadata": {},
   "source": [
    "2) Utilizando la función del punto 1, realizar otra función que reciba de parámetro una lista de números y devuelva sólo aquellos que son primos en otra lista"
   ]
  },
  {
   "cell_type": "code",
   "execution_count": 30,
   "metadata": {},
   "outputs": [
    {
     "name": "stdout",
     "output_type": "stream",
     "text": [
      "[1, 2, 3, 5, 7]\n"
     ]
    }
   ],
   "source": [
    "def son_primos(numeros):\n",
    "    primos= []\n",
    "    for i in numeros:\n",
    "        if es_primo(i):\n",
    "            primos.append(i)\n",
    "    return primos\n",
    "Lista1= [1,2,3,4,5,6,7,8,9,10]\n",
    "primos= son_primos(Lista1)\n",
    "print(primos)"
   ]
  },
  {
   "attachments": {},
   "cell_type": "markdown",
   "metadata": {},
   "source": [
    "3) Crear una función que al recibir una lista de números, devuelva el que más se repite y cuántas veces lo hace. Si hay más de un \"más repetido\", que devuelva cualquiera"
   ]
  },
  {
   "cell_type": "code",
   "execution_count": 7,
   "metadata": {},
   "outputs": [
    {
     "data": {
      "text/plain": [
       "('El número más repetido es ', 2, ' con:', 5, ' repeticiones.')"
      ]
     },
     "execution_count": 7,
     "metadata": {},
     "output_type": "execute_result"
    }
   ],
   "source": [
    "def mas_repetido(i):\n",
    "    conteo={}\n",
    "    for x in i:\n",
    "        if x in conteo:\n",
    "            conteo[x]+=1\n",
    "        else:\n",
    "            conteo[x]=1\n",
    "    valor_max=0\n",
    "    dato= 0\n",
    "    for x in conteo:\n",
    "        if conteo[x]>= valor_max:\n",
    "            valor_max=conteo[x]\n",
    "            dato = x\n",
    "    return(\"El número más repetido es \",dato,\" con:\",valor_max,\" repeticiones.\")\n",
    "            \n",
    "            \n",
    "Lista2= [1,2,3,4,5,6,7,8,9,10,11,12,3,3,2,2,1,54,1,2,2,3,4,5]\n",
    "mas_repetido(Lista2)"
   ]
  },
  {
   "attachments": {},
   "cell_type": "markdown",
   "metadata": {},
   "source": [
    "4) Crear una función que convierta entre grados Celsius, Farenheit y Kelvin<br>\n",
    "Fórmula 1\t: (°C × 9/5) + 32 = °F<br>\n",
    "Fórmula 2\t: °C + 273.15 = °K<br>\n",
    "Debe recibir 3 parámetros: el valor, la medida de orígen y la medida de destino\n"
   ]
  },
  {
   "cell_type": "code",
   "execution_count": 12,
   "metadata": {},
   "outputs": [
    {
     "data": {
      "text/plain": [
       "('El resultado de la conversión es:', 555.5300000000001)"
      ]
     },
     "execution_count": 12,
     "metadata": {},
     "output_type": "execute_result"
    }
   ],
   "source": [
    "def Conversor(valor,origen,destino):\n",
    "    x=0\n",
    "    if origen == \"C\" and destino == \"F\":\n",
    "        x=(valor*(9/5)+32)\n",
    "    elif origen == \"C\" and destino == \"K\":\n",
    "        x=valor+273.15\n",
    "    elif origen == \"F\" and destino == \"C\":\n",
    "        x=(valor-32)/(9/5)\n",
    "    elif origen == \"K\" and destino == \"C\":\n",
    "        x=valor-273.15\n",
    "    elif origen == \"F\" and destino == \"K\":\n",
    "        x=(valor+459.67)*(5/9)\n",
    "    else:\n",
    "        x=1.8*(valor-273.15)+32\n",
    "    return(\"El resultado de la conversión es:\", x)\n",
    "Origen = input(\"Tu valor esta en 'C'Celcius, 'K'kelvin o 'F'Farenheit?\")\n",
    "Destino = input(\"Necesitas transformarlo en 'C'Celcius, 'K'kelvin o 'F'Farenheit?\")\n",
    "Valor = float(input(\"Ingresa tu valor a transformar\"))\n",
    "Conversor(Valor,Origen,Destino)\n",
    "    "
   ]
  },
  {
   "attachments": {},
   "cell_type": "markdown",
   "metadata": {},
   "source": [
    "5) Iterando una lista con los tres valores posibles de temperatura que recibe la función del punto 5, hacer un print para cada combinación de los mismos:"
   ]
  },
  {
   "cell_type": "code",
   "execution_count": 22,
   "metadata": {},
   "outputs": [
    {
     "name": "stdout",
     "output_type": "stream",
     "text": [
      "('El resultado de la conversión es:', -273.15)\n",
      "('El resultado de la conversión es:', 273.15)\n",
      "('El resultado de la conversión es:', 32.0)\n",
      "('El resultado de la conversión es:', 255.37222222222223)\n",
      "('El resultado de la conversión es:', -17.77777777777778)\n",
      "('El resultado de la conversión es:', -459.66999999999996)\n"
     ]
    }
   ],
   "source": [
    "Prueba= [0,\"K\",\"C\"],[0,\"C\",\"K\"],[0,\"C\",\"F\"],[0,\"F\",\"K\"],[0,\"F\",\"C\"],[0,\"K\",\"F\"]\n",
    "for i in Prueba:\n",
    "    print(Conversor(*i))"
   ]
  },
  {
   "attachments": {},
   "cell_type": "markdown",
   "metadata": {},
   "source": [
    "6) Armar una función que devuelva el factorial de un número. Tener en cuenta que el usuario puede equivocarse y enviar de parámetro un número no entero o negativo"
   ]
  },
  {
   "cell_type": "code",
   "execution_count": 25,
   "metadata": {},
   "outputs": [
    {
     "data": {
      "text/plain": [
       "119622220865480194561963161495657715064383733760000000000"
      ]
     },
     "execution_count": 25,
     "metadata": {},
     "output_type": "execute_result"
    }
   ],
   "source": [
    "def factorial(numero):\n",
    "    if numero == 1:\n",
    "        return 1\n",
    "    else:\n",
    "        return numero * factorial(numero - 1)\n",
    "numero_factorial = int(input(\"Ingresa el número al que le quieres sacar su número factorial: \"))\n",
    "if numero_factorial < 0:\n",
    "    numero_factorial = -numero_factorial\n",
    "factorial(numero_factorial)"
   ]
  }
 ],
 "metadata": {
  "interpreter": {
   "hash": "c85384e4cb51c8b72350f3a8712cc8351fdc3955e32a27f9b60c6242ab125f01"
  },
  "kernelspec": {
   "display_name": "Python 3 (ipykernel)",
   "language": "python",
   "name": "python3"
  },
  "language_info": {
   "codemirror_mode": {
    "name": "ipython",
    "version": 3
   },
   "file_extension": ".py",
   "mimetype": "text/x-python",
   "name": "python",
   "nbconvert_exporter": "python",
   "pygments_lexer": "ipython3",
   "version": "3.11.4"
  }
 },
 "nbformat": 4,
 "nbformat_minor": 4
}
