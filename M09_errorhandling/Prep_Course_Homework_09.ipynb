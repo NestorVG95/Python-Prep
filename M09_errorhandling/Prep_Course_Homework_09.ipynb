{
 "cells": [
  {
   "attachments": {},
   "cell_type": "markdown",
   "metadata": {},
   "source": [
    "## Manejo de errores"
   ]
  },
  {
   "attachments": {},
   "cell_type": "markdown",
   "metadata": {},
   "source": [
    "1) Con la clase creada en el módulo 7, tener en cuenta diferentes casos en que el código pudiera arrojar error. Por ejemplo, en la creación del objeto recibimos una lista de números enteros pero ¿qué pasa si se envía otro tipo de dato?"
   ]
  },
  {
   "cell_type": "code",
   "execution_count": 1,
   "metadata": {},
   "outputs": [],
   "source": [
    "import sys\n",
    "sys.path.append(r'/C:/Users/Equipo/Documents/EDUCACION/PYTHON/Curso de PYTHON con HENRRY/Python-Prep/M08_clasesyOOP/funciones.py')\n",
    "import funciones as f"
   ]
  },
  {
   "attachments": {},
   "cell_type": "markdown",
   "metadata": {},
   "source": [
    "2) En la función que hace la conversión de grados, validar que los parámetros enviados sean los esperados, de no serlo, informar cuáles son los valores esperados."
   ]
  },
  {
   "cell_type": "code",
   "execution_count": 4,
   "metadata": {},
   "outputs": [
    {
     "name": "stdout",
     "output_type": "stream",
     "text": [
      "2 grados C son El resultado de la conversión es: 275.15 grados K\n",
      "12 grados C son El resultado de la conversión es: 285.15 grados K\n",
      "2435 grados C son El resultado de la conversión es: 2708.15 grados K\n",
      "435 grados C son El resultado de la conversión es: 708.15 grados K\n",
      "32 grados C son El resultado de la conversión es: 305.15 grados K\n",
      "1 grados C son El resultado de la conversión es: 274.15 grados K\n",
      "2 grados C son El resultado de la conversión es: 275.15 grados K\n",
      "2 grados C son El resultado de la conversión es: 275.15 grados K\n",
      "3 grados C son El resultado de la conversión es: 276.15 grados K\n",
      "3 grados C son El resultado de la conversión es: 276.15 grados K\n",
      "1 grados C son El resultado de la conversión es: 274.15 grados K\n",
      "3 grados C son El resultado de la conversión es: 276.15 grados K\n",
      "43 grados C son El resultado de la conversión es: 316.15 grados K\n",
      "1 grados C son El resultado de la conversión es: 274.15 grados K\n",
      "2 grados C son El resultado de la conversión es: 275.15 grados K\n",
      "21 grados C son El resultado de la conversión es: 294.15 grados K\n",
      "2 grados C son El resultado de la conversión es: 275.15 grados K\n"
     ]
    }
   ],
   "source": [
    "import importlib\n",
    "importlib.reload(f)\n",
    "f1 = f.Funciones([2,12,2435,435,32,1,2,2,3,3,1,3,43,1,2,21,2])\n",
    "f1.conversion_grados(\"C\",\"K\")"
   ]
  },
  {
   "attachments": {},
   "cell_type": "markdown",
   "metadata": {},
   "source": [
    "3) Importar el modulo \"unittest\" y crear los siguientes casos de pruebas sobre la clase utilizada en el punto 2<br>\n",
    "Creacion del objeto incorrecta<br>\n",
    "Creacion correcta del objeto<br>\n",
    "Metodo valor_modal()<br>\n",
    "\n",
    "Se puede usar \"raise ValueError()\" en la creación de la clase para verificar el error. Investigar sobre esta funcionalidad."
   ]
  },
  {
   "cell_type": "code",
   "execution_count": 10,
   "metadata": {},
   "outputs": [
    {
     "name": "stderr",
     "output_type": "stream",
     "text": [
      "test_PrimerTest (__main__.TestDeClases.test_PrimerTest) ... FAIL\n",
      "test_SegundoTest (__main__.TestDeClases.test_SegundoTest) ... ok\n",
      "test_TestValorModal (__main__.TestDeClases.test_TestValorModal) ... ERROR\n",
      "\n",
      "======================================================================\n",
      "ERROR: test_TestValorModal (__main__.TestDeClases.test_TestValorModal)\n",
      "----------------------------------------------------------------------\n",
      "Traceback (most recent call last):\n",
      "  File \"C:\\Users\\Equipo\\AppData\\Local\\Temp\\ipykernel_13000\\3447318301.py\", line 15, in test_TestValorModal\n",
      "    dato, valor_max = f1.mas_repetido(False)\n",
      "                      ^^^^^^^^^^^^^^^^^^^^^^\n",
      "TypeError: Funciones.mas_repetido() takes 1 positional argument but 2 were given\n",
      "\n",
      "======================================================================\n",
      "FAIL: test_PrimerTest (__main__.TestDeClases.test_PrimerTest)\n",
      "----------------------------------------------------------------------\n",
      "Traceback (most recent call last):\n",
      "  File \"C:\\Users\\Equipo\\AppData\\Local\\Temp\\ipykernel_13000\\3447318301.py\", line 5, in test_PrimerTest\n",
      "    self.assertRaises(ValueError, f.Funciones, param)\n",
      "AssertionError: ValueError not raised by Funciones\n",
      "\n",
      "----------------------------------------------------------------------\n",
      "Ran 3 tests in 0.007s\n",
      "\n",
      "FAILED (failures=1, errors=1)\n"
     ]
    },
    {
     "data": {
      "text/plain": [
       "<unittest.main.TestProgram at 0x24869d0b350>"
      ]
     },
     "execution_count": 10,
     "metadata": {},
     "output_type": "execute_result"
    }
   ],
   "source": [
    "import unittest\n",
    "class TestDeClases(unittest.TestCase):\n",
    "    def test_PrimerTest(self):\n",
    "        param = \"Hola\"\n",
    "        self.assertRaises(ValueError, f.Funciones, param)\n",
    "\n",
    "    def test_SegundoTest(self):\n",
    "        param = [1,2,2,5]\n",
    "        f1 = f.Funciones(param)\n",
    "        self.assertEqual(f1.lista, param)\n",
    "\n",
    "    def test_TestValorModal(self):\n",
    "        lista = [1,2,1,3]\n",
    "        f1 = f.Funciones(lista)\n",
    "        dato, valor_max = f1.mas_repetido(False)\n",
    "        dato = [dato]\n",
    "        dato.append(valor_max)\n",
    "        resultado = [1, 2]\n",
    "        self.assertEqual(dato, resultado)\n",
    "unittest.main(argv=[''], verbosity=2, exit=False)"
   ]
  },
  {
   "attachments": {},
   "cell_type": "markdown",
   "metadata": {},
   "source": [
    "4) Probar una creación incorrecta y visualizar la salida del \"raise\""
   ]
  },
  {
   "cell_type": "code",
   "execution_count": 11,
   "metadata": {},
   "outputs": [],
   "source": [
    "f2 = f.Funciones('algo')"
   ]
  },
  {
   "attachments": {},
   "cell_type": "markdown",
   "metadata": {},
   "source": [
    "6) Agregar casos de pruebas para el método verifica_primos() realizando el cambio en la clase, para que devuelva una lista de True o False en función de que el elemento en la posisicón sea o no primo"
   ]
  },
  {
   "cell_type": "code",
   "execution_count": 13,
   "metadata": {},
   "outputs": [
    {
     "name": "stderr",
     "output_type": "stream",
     "text": [
      "test_Primos (__main__.ProbandoMiClase2.test_Primos) ... ERROR\n",
      "test_PrimerTest (__main__.TestDeClases.test_PrimerTest) ... FAIL\n",
      "test_SegundoTest (__main__.TestDeClases.test_SegundoTest) ... ok\n",
      "test_TestValorModal (__main__.TestDeClases.test_TestValorModal) ... ERROR\n",
      "\n",
      "======================================================================\n",
      "ERROR: test_Primos (__main__.ProbandoMiClase2.test_Primos)\n",
      "----------------------------------------------------------------------\n",
      "Traceback (most recent call last):\n",
      "  File \"C:\\Users\\Equipo\\AppData\\Local\\Temp\\ipykernel_13000\\3550918692.py\", line 6, in test_Primos\n",
      "    primos = f1.son_primos()\n",
      "             ^^^^^^^^^^^^^^^\n",
      "TypeError: Funciones.son_primos() missing 1 required positional argument: 'numeros'\n",
      "\n",
      "======================================================================\n",
      "ERROR: test_TestValorModal (__main__.TestDeClases.test_TestValorModal)\n",
      "----------------------------------------------------------------------\n",
      "Traceback (most recent call last):\n",
      "  File \"C:\\Users\\Equipo\\AppData\\Local\\Temp\\ipykernel_13000\\3447318301.py\", line 15, in test_TestValorModal\n",
      "    dato, valor_max = f1.mas_repetido(False)\n",
      "                      ^^^^^^^^^^^^^^^^^^^^^^\n",
      "TypeError: Funciones.mas_repetido() takes 1 positional argument but 2 were given\n",
      "\n",
      "======================================================================\n",
      "FAIL: test_PrimerTest (__main__.TestDeClases.test_PrimerTest)\n",
      "----------------------------------------------------------------------\n",
      "Traceback (most recent call last):\n",
      "  File \"C:\\Users\\Equipo\\AppData\\Local\\Temp\\ipykernel_13000\\3447318301.py\", line 5, in test_PrimerTest\n",
      "    self.assertRaises(ValueError, f.Funciones, param)\n",
      "AssertionError: ValueError not raised by Funciones\n",
      "\n",
      "----------------------------------------------------------------------\n",
      "Ran 4 tests in 0.010s\n",
      "\n",
      "FAILED (failures=1, errors=2)\n"
     ]
    },
    {
     "data": {
      "text/plain": [
       "<unittest.main.TestProgram at 0x24869c9fa10>"
      ]
     },
     "execution_count": 13,
     "metadata": {},
     "output_type": "execute_result"
    }
   ],
   "source": [
    "class ProbandoMiClase2(unittest.TestCase):\n",
    "\n",
    "    def test_Primos(self):\n",
    "        lis = [2,3,8,10,13]\n",
    "        f1 = f.Funciones(lis)\n",
    "        primos = f1.son_primos()\n",
    "        primos_esperado = [True, True, False, False, True]\n",
    "        self.assertEqual(primos, primos_esperado)\n",
    "importlib.reload(f)\n",
    "unittest.main(argv=[''], verbosity=2, exit=False)"
   ]
  },
  {
   "attachments": {},
   "cell_type": "markdown",
   "metadata": {},
   "source": [
    "7) Agregar casos de pruebas para el método conversion_grados()"
   ]
  },
  {
   "cell_type": "code",
   "execution_count": 15,
   "metadata": {},
   "outputs": [
    {
     "name": "stderr",
     "output_type": "stream",
     "text": [
      "test_Primos (__main__.ProbandoMiClase2.test_Primos) ... ERROR\n",
      "test_verifica_conversion1 (__main__.ProbandoMiClase3.test_verifica_conversion1) ... ERROR\n",
      "test_PrimerTest (__main__.TestDeClases.test_PrimerTest) ... FAIL\n",
      "test_SegundoTest (__main__.TestDeClases.test_SegundoTest) ... ok\n",
      "test_TestValorModal (__main__.TestDeClases.test_TestValorModal) ... ERROR\n",
      "\n",
      "======================================================================\n",
      "ERROR: test_Primos (__main__.ProbandoMiClase2.test_Primos)\n",
      "----------------------------------------------------------------------\n",
      "Traceback (most recent call last):\n",
      "  File \"C:\\Users\\Equipo\\AppData\\Local\\Temp\\ipykernel_13000\\3550918692.py\", line 6, in test_Primos\n",
      "    primos = f1.son_primos()\n",
      "             ^^^^^^^^^^^^^^^\n",
      "TypeError: Funciones.son_primos() missing 1 required positional argument: 'numeros'\n",
      "\n",
      "======================================================================\n",
      "ERROR: test_verifica_conversion1 (__main__.ProbandoMiClase3.test_verifica_conversion1)\n",
      "----------------------------------------------------------------------\n",
      "Traceback (most recent call last):\n",
      "  File \"C:\\Users\\Equipo\\AppData\\Local\\Temp\\ipykernel_13000\\3808195294.py\", line 6, in test_verifica_conversion1\n",
      "    grados = f1.__conversor('C','F')\n",
      "             ^^^^^^^^^^^^^^\n",
      "AttributeError: 'Funciones' object has no attribute '_ProbandoMiClase3__conversor'\n",
      "\n",
      "======================================================================\n",
      "ERROR: test_TestValorModal (__main__.TestDeClases.test_TestValorModal)\n",
      "----------------------------------------------------------------------\n",
      "Traceback (most recent call last):\n",
      "  File \"C:\\Users\\Equipo\\AppData\\Local\\Temp\\ipykernel_13000\\3447318301.py\", line 15, in test_TestValorModal\n",
      "    dato, valor_max = f1.mas_repetido(False)\n",
      "                      ^^^^^^^^^^^^^^^^^^^^^^\n",
      "TypeError: Funciones.mas_repetido() takes 1 positional argument but 2 were given\n",
      "\n",
      "======================================================================\n",
      "FAIL: test_PrimerTest (__main__.TestDeClases.test_PrimerTest)\n",
      "----------------------------------------------------------------------\n",
      "Traceback (most recent call last):\n",
      "  File \"C:\\Users\\Equipo\\AppData\\Local\\Temp\\ipykernel_13000\\3447318301.py\", line 5, in test_PrimerTest\n",
      "    self.assertRaises(ValueError, f.Funciones, param)\n",
      "AssertionError: ValueError not raised by Funciones\n",
      "\n",
      "----------------------------------------------------------------------\n",
      "Ran 5 tests in 0.011s\n",
      "\n",
      "FAILED (failures=1, errors=3)\n"
     ]
    },
    {
     "data": {
      "text/plain": [
       "<unittest.main.TestProgram at 0x24869cc6550>"
      ]
     },
     "execution_count": 15,
     "metadata": {},
     "output_type": "execute_result"
    }
   ],
   "source": [
    "class ProbandoMiClase3(unittest.TestCase):\n",
    "\n",
    "    def test_verifica_conversion1(self):\n",
    "        lis = [2,3,8,10,13]\n",
    "        f1 = f.Funciones(lis)\n",
    "        grados = f1.__conversor('C','F')\n",
    "        grados_esperado = [35.6, 37.4, 46.4, 50.0, 55.4]\n",
    "        self.assertEqual(grados, grados_esperado)\n",
    "importlib.reload(f)\n",
    "unittest.main(argv=[''], verbosity=2, exit=False)"
   ]
  },
  {
   "attachments": {},
   "cell_type": "markdown",
   "metadata": {},
   "source": [
    "8) Agregar casos de pruebas para el método factorial()"
   ]
  },
  {
   "cell_type": "code",
   "execution_count": 17,
   "metadata": {},
   "outputs": [
    {
     "name": "stderr",
     "output_type": "stream",
     "text": [
      "test_Primos (__main__.ProbandoMiClase2.test_Primos) ... ERROR\n",
      "test_verifica_conversion1 (__main__.ProbandoMiClase3.test_verifica_conversion1) ... ERROR\n",
      "test_Factorial (__main__.ProbandoMiClase4.test_Factorial) ... FAIL\n",
      "test_PrimerTest (__main__.TestDeClases.test_PrimerTest) ... FAIL\n",
      "test_SegundoTest (__main__.TestDeClases.test_SegundoTest) ... ok\n",
      "test_TestValorModal (__main__.TestDeClases.test_TestValorModal) ... ERROR\n",
      "\n",
      "======================================================================\n",
      "ERROR: test_Primos (__main__.ProbandoMiClase2.test_Primos)\n",
      "----------------------------------------------------------------------\n",
      "Traceback (most recent call last):\n",
      "  File \"C:\\Users\\Equipo\\AppData\\Local\\Temp\\ipykernel_13000\\3550918692.py\", line 6, in test_Primos\n",
      "    primos = f1.son_primos()\n",
      "             ^^^^^^^^^^^^^^^\n",
      "TypeError: Funciones.son_primos() missing 1 required positional argument: 'numeros'\n",
      "\n",
      "======================================================================\n",
      "ERROR: test_verifica_conversion1 (__main__.ProbandoMiClase3.test_verifica_conversion1)\n",
      "----------------------------------------------------------------------\n",
      "Traceback (most recent call last):\n",
      "  File \"C:\\Users\\Equipo\\AppData\\Local\\Temp\\ipykernel_13000\\3808195294.py\", line 6, in test_verifica_conversion1\n",
      "    grados = f1.__conversor('C','F')\n",
      "             ^^^^^^^^^^^^^^\n",
      "AttributeError: 'Funciones' object has no attribute '_ProbandoMiClase3__conversor'\n",
      "\n",
      "======================================================================\n",
      "ERROR: test_TestValorModal (__main__.TestDeClases.test_TestValorModal)\n",
      "----------------------------------------------------------------------\n",
      "Traceback (most recent call last):\n",
      "  File \"C:\\Users\\Equipo\\AppData\\Local\\Temp\\ipykernel_13000\\3447318301.py\", line 15, in test_TestValorModal\n",
      "    dato, valor_max = f1.mas_repetido(False)\n",
      "                      ^^^^^^^^^^^^^^^^^^^^^^\n",
      "TypeError: Funciones.mas_repetido() takes 1 positional argument but 2 were given\n",
      "\n",
      "======================================================================\n",
      "FAIL: test_Factorial (__main__.ProbandoMiClase4.test_Factorial)\n",
      "----------------------------------------------------------------------\n",
      "Traceback (most recent call last):\n",
      "  File \"C:\\Users\\Equipo\\AppData\\Local\\Temp\\ipykernel_13000\\3081198382.py\", line 8, in test_Factorial\n",
      "    self.assertEqual(factorial, factorial_esperado)\n",
      "AssertionError: None != [2, 6, 40320, 3628800, 6227020800]\n",
      "\n",
      "======================================================================\n",
      "FAIL: test_PrimerTest (__main__.TestDeClases.test_PrimerTest)\n",
      "----------------------------------------------------------------------\n",
      "Traceback (most recent call last):\n",
      "  File \"C:\\Users\\Equipo\\AppData\\Local\\Temp\\ipykernel_13000\\3447318301.py\", line 5, in test_PrimerTest\n",
      "    self.assertRaises(ValueError, f.Funciones, param)\n",
      "AssertionError: ValueError not raised by Funciones\n",
      "\n",
      "----------------------------------------------------------------------\n",
      "Ran 6 tests in 0.011s\n",
      "\n",
      "FAILED (failures=2, errors=3)\n"
     ]
    },
    {
     "name": "stdout",
     "output_type": "stream",
     "text": [
      "El factorial de 2 es 2\n",
      "El factorial de 3 es 6\n",
      "El factorial de 8 es 40320\n",
      "El factorial de 10 es 3628800\n",
      "El factorial de 13 es 6227020800\n"
     ]
    }
   ],
   "source": [
    "class ProbandoMiClase4(unittest.TestCase):\n",
    "\n",
    "    def test_Factorial(self):\n",
    "        lis = [2,3,8,10,13]\n",
    "        f1 = f.Funciones(lis)\n",
    "        factorial = f1.factorial()\n",
    "        factorial_esperado = [2, 6, 40320, 3628800, 6227020800]\n",
    "        self.assertEqual(factorial, factorial_esperado)\n",
    "    importlib.reload(f)\n",
    "    unittest.main(argv=[''], verbosity=2, exit=False)"
   ]
  },
  {
   "cell_type": "code",
   "execution_count": null,
   "metadata": {},
   "outputs": [],
   "source": []
  }
 ],
 "metadata": {
  "interpreter": {
   "hash": "c85384e4cb51c8b72350f3a8712cc8351fdc3955e32a27f9b60c6242ab125f01"
  },
  "kernelspec": {
   "display_name": "Python 3 (ipykernel)",
   "language": "python",
   "name": "python3"
  },
  "language_info": {
   "codemirror_mode": {
    "name": "ipython",
    "version": 3
   },
   "file_extension": ".py",
   "mimetype": "text/x-python",
   "name": "python",
   "nbconvert_exporter": "python",
   "pygments_lexer": "ipython3",
   "version": "3.11.4"
  }
 },
 "nbformat": 4,
 "nbformat_minor": 4
}
